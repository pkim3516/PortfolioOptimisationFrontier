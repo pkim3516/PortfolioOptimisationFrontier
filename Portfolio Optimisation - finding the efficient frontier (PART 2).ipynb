{
 "cells": [
  {
   "cell_type": "markdown",
   "metadata": {},
   "source": [
    "## Portfolio Optimisation - finding the efficient frontier (PART 2)"
   ]
  },
  {
   "cell_type": "markdown",
   "metadata": {},
   "source": [
    "### 1. Load packages"
   ]
  },
  {
   "cell_type": "code",
   "execution_count": 2,
   "metadata": {},
   "outputs": [],
   "source": [
    "import numpy as np\n",
    "import pandas as pd\n",
    "from pandas_datareader import data\n",
    "import matplotlib.pyplot as plt\n",
    "%matplotlib inline"
   ]
  },
  {
   "cell_type": "markdown",
   "metadata": {},
   "source": [
    "### 2. Load Data"
   ]
  },
  {
   "cell_type": "code",
   "execution_count": 3,
   "metadata": {},
   "outputs": [
    {
     "data": {
      "text/html": [
       "<div>\n",
       "<style scoped>\n",
       "    .dataframe tbody tr th:only-of-type {\n",
       "        vertical-align: middle;\n",
       "    }\n",
       "\n",
       "    .dataframe tbody tr th {\n",
       "        vertical-align: top;\n",
       "    }\n",
       "\n",
       "    .dataframe thead tr th {\n",
       "        text-align: left;\n",
       "    }\n",
       "\n",
       "    .dataframe thead tr:last-of-type th {\n",
       "        text-align: right;\n",
       "    }\n",
       "</style>\n",
       "<table border=\"1\" class=\"dataframe\">\n",
       "  <thead>\n",
       "    <tr>\n",
       "      <th>Attributes</th>\n",
       "      <th colspan=\"4\" halign=\"left\">Adj Close</th>\n",
       "      <th colspan=\"4\" halign=\"left\">Close</th>\n",
       "      <th colspan=\"2\" halign=\"left\">High</th>\n",
       "      <th>...</th>\n",
       "      <th colspan=\"2\" halign=\"left\">Low</th>\n",
       "      <th colspan=\"4\" halign=\"left\">Open</th>\n",
       "      <th colspan=\"4\" halign=\"left\">Volume</th>\n",
       "    </tr>\n",
       "    <tr>\n",
       "      <th>Symbols</th>\n",
       "      <th>AAPL</th>\n",
       "      <th>NKE</th>\n",
       "      <th>GOOGL</th>\n",
       "      <th>AMZN</th>\n",
       "      <th>AAPL</th>\n",
       "      <th>NKE</th>\n",
       "      <th>GOOGL</th>\n",
       "      <th>AMZN</th>\n",
       "      <th>AAPL</th>\n",
       "      <th>NKE</th>\n",
       "      <th>...</th>\n",
       "      <th>GOOGL</th>\n",
       "      <th>AMZN</th>\n",
       "      <th>AAPL</th>\n",
       "      <th>NKE</th>\n",
       "      <th>GOOGL</th>\n",
       "      <th>AMZN</th>\n",
       "      <th>AAPL</th>\n",
       "      <th>NKE</th>\n",
       "      <th>GOOGL</th>\n",
       "      <th>AMZN</th>\n",
       "    </tr>\n",
       "    <tr>\n",
       "      <th>Date</th>\n",
       "      <th></th>\n",
       "      <th></th>\n",
       "      <th></th>\n",
       "      <th></th>\n",
       "      <th></th>\n",
       "      <th></th>\n",
       "      <th></th>\n",
       "      <th></th>\n",
       "      <th></th>\n",
       "      <th></th>\n",
       "      <th></th>\n",
       "      <th></th>\n",
       "      <th></th>\n",
       "      <th></th>\n",
       "      <th></th>\n",
       "      <th></th>\n",
       "      <th></th>\n",
       "      <th></th>\n",
       "      <th></th>\n",
       "      <th></th>\n",
       "      <th></th>\n",
       "    </tr>\n",
       "  </thead>\n",
       "  <tbody>\n",
       "    <tr>\n",
       "      <th>2015-01-02</th>\n",
       "      <td>24.898552</td>\n",
       "      <td>43.848564</td>\n",
       "      <td>529.549988</td>\n",
       "      <td>308.519989</td>\n",
       "      <td>27.332500</td>\n",
       "      <td>47.514999</td>\n",
       "      <td>529.549988</td>\n",
       "      <td>308.519989</td>\n",
       "      <td>27.860001</td>\n",
       "      <td>48.474998</td>\n",
       "      <td>...</td>\n",
       "      <td>527.880005</td>\n",
       "      <td>306.959991</td>\n",
       "      <td>27.847500</td>\n",
       "      <td>48.275002</td>\n",
       "      <td>532.599976</td>\n",
       "      <td>312.579987</td>\n",
       "      <td>212818400.0</td>\n",
       "      <td>4985800.0</td>\n",
       "      <td>1324000.0</td>\n",
       "      <td>2783200.0</td>\n",
       "    </tr>\n",
       "    <tr>\n",
       "      <th>2015-01-05</th>\n",
       "      <td>24.197117</td>\n",
       "      <td>43.142586</td>\n",
       "      <td>519.460022</td>\n",
       "      <td>302.190002</td>\n",
       "      <td>26.562500</td>\n",
       "      <td>46.750000</td>\n",
       "      <td>519.460022</td>\n",
       "      <td>302.190002</td>\n",
       "      <td>27.162500</td>\n",
       "      <td>47.275002</td>\n",
       "      <td>...</td>\n",
       "      <td>517.750000</td>\n",
       "      <td>300.850006</td>\n",
       "      <td>27.072500</td>\n",
       "      <td>47.255001</td>\n",
       "      <td>527.150024</td>\n",
       "      <td>307.010010</td>\n",
       "      <td>257142000.0</td>\n",
       "      <td>6889200.0</td>\n",
       "      <td>2059100.0</td>\n",
       "      <td>2774200.0</td>\n",
       "    </tr>\n",
       "    <tr>\n",
       "      <th>2015-01-06</th>\n",
       "      <td>24.199400</td>\n",
       "      <td>42.888809</td>\n",
       "      <td>506.640015</td>\n",
       "      <td>295.290009</td>\n",
       "      <td>26.565001</td>\n",
       "      <td>46.474998</td>\n",
       "      <td>506.640015</td>\n",
       "      <td>295.290009</td>\n",
       "      <td>26.857500</td>\n",
       "      <td>47.075001</td>\n",
       "      <td>...</td>\n",
       "      <td>505.549988</td>\n",
       "      <td>292.380005</td>\n",
       "      <td>26.635000</td>\n",
       "      <td>46.945000</td>\n",
       "      <td>520.500000</td>\n",
       "      <td>302.239990</td>\n",
       "      <td>263188400.0</td>\n",
       "      <td>7576000.0</td>\n",
       "      <td>2722800.0</td>\n",
       "      <td>3519000.0</td>\n",
       "    </tr>\n",
       "    <tr>\n",
       "      <th>2015-01-07</th>\n",
       "      <td>24.538729</td>\n",
       "      <td>43.774734</td>\n",
       "      <td>505.149994</td>\n",
       "      <td>298.420013</td>\n",
       "      <td>26.937500</td>\n",
       "      <td>47.435001</td>\n",
       "      <td>505.149994</td>\n",
       "      <td>298.420013</td>\n",
       "      <td>27.049999</td>\n",
       "      <td>47.650002</td>\n",
       "      <td>...</td>\n",
       "      <td>503.649994</td>\n",
       "      <td>295.329987</td>\n",
       "      <td>26.799999</td>\n",
       "      <td>46.805000</td>\n",
       "      <td>510.950012</td>\n",
       "      <td>297.500000</td>\n",
       "      <td>160423600.0</td>\n",
       "      <td>7256000.0</td>\n",
       "      <td>2345900.0</td>\n",
       "      <td>2640300.0</td>\n",
       "    </tr>\n",
       "    <tr>\n",
       "      <th>2015-01-08</th>\n",
       "      <td>25.481558</td>\n",
       "      <td>44.785240</td>\n",
       "      <td>506.910004</td>\n",
       "      <td>300.459991</td>\n",
       "      <td>27.972500</td>\n",
       "      <td>48.529999</td>\n",
       "      <td>506.910004</td>\n",
       "      <td>300.459991</td>\n",
       "      <td>28.037500</td>\n",
       "      <td>48.549999</td>\n",
       "      <td>...</td>\n",
       "      <td>495.019989</td>\n",
       "      <td>296.109985</td>\n",
       "      <td>27.307501</td>\n",
       "      <td>47.830002</td>\n",
       "      <td>501.510010</td>\n",
       "      <td>300.320007</td>\n",
       "      <td>237458000.0</td>\n",
       "      <td>5978200.0</td>\n",
       "      <td>3652700.0</td>\n",
       "      <td>3088400.0</td>\n",
       "    </tr>\n",
       "  </tbody>\n",
       "</table>\n",
       "<p>5 rows × 24 columns</p>\n",
       "</div>"
      ],
      "text/plain": [
       "Attributes  Adj Close                                         Close  \\\n",
       "Symbols          AAPL        NKE       GOOGL        AMZN       AAPL   \n",
       "Date                                                                  \n",
       "2015-01-02  24.898552  43.848564  529.549988  308.519989  27.332500   \n",
       "2015-01-05  24.197117  43.142586  519.460022  302.190002  26.562500   \n",
       "2015-01-06  24.199400  42.888809  506.640015  295.290009  26.565001   \n",
       "2015-01-07  24.538729  43.774734  505.149994  298.420013  26.937500   \n",
       "2015-01-08  25.481558  44.785240  506.910004  300.459991  27.972500   \n",
       "\n",
       "Attributes                                          High             ...  \\\n",
       "Symbols           NKE       GOOGL        AMZN       AAPL        NKE  ...   \n",
       "Date                                                                 ...   \n",
       "2015-01-02  47.514999  529.549988  308.519989  27.860001  48.474998  ...   \n",
       "2015-01-05  46.750000  519.460022  302.190002  27.162500  47.275002  ...   \n",
       "2015-01-06  46.474998  506.640015  295.290009  26.857500  47.075001  ...   \n",
       "2015-01-07  47.435001  505.149994  298.420013  27.049999  47.650002  ...   \n",
       "2015-01-08  48.529999  506.910004  300.459991  28.037500  48.549999  ...   \n",
       "\n",
       "Attributes         Low                   Open                         \\\n",
       "Symbols          GOOGL        AMZN       AAPL        NKE       GOOGL   \n",
       "Date                                                                   \n",
       "2015-01-02  527.880005  306.959991  27.847500  48.275002  532.599976   \n",
       "2015-01-05  517.750000  300.850006  27.072500  47.255001  527.150024   \n",
       "2015-01-06  505.549988  292.380005  26.635000  46.945000  520.500000   \n",
       "2015-01-07  503.649994  295.329987  26.799999  46.805000  510.950012   \n",
       "2015-01-08  495.019989  296.109985  27.307501  47.830002  501.510010   \n",
       "\n",
       "Attributes                   Volume                                   \n",
       "Symbols           AMZN         AAPL        NKE      GOOGL       AMZN  \n",
       "Date                                                                  \n",
       "2015-01-02  312.579987  212818400.0  4985800.0  1324000.0  2783200.0  \n",
       "2015-01-05  307.010010  257142000.0  6889200.0  2059100.0  2774200.0  \n",
       "2015-01-06  302.239990  263188400.0  7576000.0  2722800.0  3519000.0  \n",
       "2015-01-07  297.500000  160423600.0  7256000.0  2345900.0  2640300.0  \n",
       "2015-01-08  300.320007  237458000.0  5978200.0  3652700.0  3088400.0  \n",
       "\n",
       "[5 rows x 24 columns]"
      ]
     },
     "execution_count": 3,
     "metadata": {},
     "output_type": "execute_result"
    }
   ],
   "source": [
    "df = data.DataReader(['AAPL', 'NKE', 'GOOGL', 'AMZN'], 'yahoo', start='2015/01/01', end='2020/12/31')\n",
    "df.head()"
   ]
  },
  {
   "cell_type": "markdown",
   "metadata": {},
   "source": [
    "### 3. Closing price only"
   ]
  },
  {
   "cell_type": "code",
   "execution_count": 4,
   "metadata": {},
   "outputs": [
    {
     "data": {
      "text/html": [
       "<div>\n",
       "<style scoped>\n",
       "    .dataframe tbody tr th:only-of-type {\n",
       "        vertical-align: middle;\n",
       "    }\n",
       "\n",
       "    .dataframe tbody tr th {\n",
       "        vertical-align: top;\n",
       "    }\n",
       "\n",
       "    .dataframe thead th {\n",
       "        text-align: right;\n",
       "    }\n",
       "</style>\n",
       "<table border=\"1\" class=\"dataframe\">\n",
       "  <thead>\n",
       "    <tr style=\"text-align: right;\">\n",
       "      <th>Symbols</th>\n",
       "      <th>AAPL</th>\n",
       "      <th>NKE</th>\n",
       "      <th>GOOGL</th>\n",
       "      <th>AMZN</th>\n",
       "    </tr>\n",
       "    <tr>\n",
       "      <th>Date</th>\n",
       "      <th></th>\n",
       "      <th></th>\n",
       "      <th></th>\n",
       "      <th></th>\n",
       "    </tr>\n",
       "  </thead>\n",
       "  <tbody>\n",
       "    <tr>\n",
       "      <th>2015-01-02</th>\n",
       "      <td>24.898552</td>\n",
       "      <td>43.848564</td>\n",
       "      <td>529.549988</td>\n",
       "      <td>308.519989</td>\n",
       "    </tr>\n",
       "    <tr>\n",
       "      <th>2015-01-05</th>\n",
       "      <td>24.197117</td>\n",
       "      <td>43.142586</td>\n",
       "      <td>519.460022</td>\n",
       "      <td>302.190002</td>\n",
       "    </tr>\n",
       "    <tr>\n",
       "      <th>2015-01-06</th>\n",
       "      <td>24.199400</td>\n",
       "      <td>42.888809</td>\n",
       "      <td>506.640015</td>\n",
       "      <td>295.290009</td>\n",
       "    </tr>\n",
       "    <tr>\n",
       "      <th>2015-01-07</th>\n",
       "      <td>24.538729</td>\n",
       "      <td>43.774734</td>\n",
       "      <td>505.149994</td>\n",
       "      <td>298.420013</td>\n",
       "    </tr>\n",
       "    <tr>\n",
       "      <th>2015-01-08</th>\n",
       "      <td>25.481558</td>\n",
       "      <td>44.785240</td>\n",
       "      <td>506.910004</td>\n",
       "      <td>300.459991</td>\n",
       "    </tr>\n",
       "  </tbody>\n",
       "</table>\n",
       "</div>"
      ],
      "text/plain": [
       "Symbols          AAPL        NKE       GOOGL        AMZN\n",
       "Date                                                    \n",
       "2015-01-02  24.898552  43.848564  529.549988  308.519989\n",
       "2015-01-05  24.197117  43.142586  519.460022  302.190002\n",
       "2015-01-06  24.199400  42.888809  506.640015  295.290009\n",
       "2015-01-07  24.538729  43.774734  505.149994  298.420013\n",
       "2015-01-08  25.481558  44.785240  506.910004  300.459991"
      ]
     },
     "execution_count": 4,
     "metadata": {},
     "output_type": "execute_result"
    }
   ],
   "source": [
    "df = df['Adj Close']\n",
    "df.head()"
   ]
  },
  {
   "cell_type": "markdown",
   "metadata": {},
   "source": [
    "### 4. Covariance matrix"
   ]
  },
  {
   "cell_type": "code",
   "execution_count": 5,
   "metadata": {},
   "outputs": [
    {
     "data": {
      "text/html": [
       "<div>\n",
       "<style scoped>\n",
       "    .dataframe tbody tr th:only-of-type {\n",
       "        vertical-align: middle;\n",
       "    }\n",
       "\n",
       "    .dataframe tbody tr th {\n",
       "        vertical-align: top;\n",
       "    }\n",
       "\n",
       "    .dataframe thead th {\n",
       "        text-align: right;\n",
       "    }\n",
       "</style>\n",
       "<table border=\"1\" class=\"dataframe\">\n",
       "  <thead>\n",
       "    <tr style=\"text-align: right;\">\n",
       "      <th>Symbols</th>\n",
       "      <th>AAPL</th>\n",
       "      <th>NKE</th>\n",
       "      <th>GOOGL</th>\n",
       "      <th>AMZN</th>\n",
       "    </tr>\n",
       "    <tr>\n",
       "      <th>Symbols</th>\n",
       "      <th></th>\n",
       "      <th></th>\n",
       "      <th></th>\n",
       "      <th></th>\n",
       "    </tr>\n",
       "  </thead>\n",
       "  <tbody>\n",
       "    <tr>\n",
       "      <th>AAPL</th>\n",
       "      <td>0.000349</td>\n",
       "      <td>0.000149</td>\n",
       "      <td>0.000193</td>\n",
       "      <td>0.000202</td>\n",
       "    </tr>\n",
       "    <tr>\n",
       "      <th>NKE</th>\n",
       "      <td>0.000149</td>\n",
       "      <td>0.000296</td>\n",
       "      <td>0.000138</td>\n",
       "      <td>0.000118</td>\n",
       "    </tr>\n",
       "    <tr>\n",
       "      <th>GOOGL</th>\n",
       "      <td>0.000193</td>\n",
       "      <td>0.000138</td>\n",
       "      <td>0.000283</td>\n",
       "      <td>0.000213</td>\n",
       "    </tr>\n",
       "    <tr>\n",
       "      <th>AMZN</th>\n",
       "      <td>0.000202</td>\n",
       "      <td>0.000118</td>\n",
       "      <td>0.000213</td>\n",
       "      <td>0.000375</td>\n",
       "    </tr>\n",
       "  </tbody>\n",
       "</table>\n",
       "</div>"
      ],
      "text/plain": [
       "Symbols      AAPL       NKE     GOOGL      AMZN\n",
       "Symbols                                        \n",
       "AAPL     0.000349  0.000149  0.000193  0.000202\n",
       "NKE      0.000149  0.000296  0.000138  0.000118\n",
       "GOOGL    0.000193  0.000138  0.000283  0.000213\n",
       "AMZN     0.000202  0.000118  0.000213  0.000375"
      ]
     },
     "execution_count": 5,
     "metadata": {},
     "output_type": "execute_result"
    }
   ],
   "source": [
    "cov_matrix = df.pct_change().apply(lambda x: np.log(1+x)).cov()\n",
    "cov_matrix"
   ]
  },
  {
   "cell_type": "markdown",
   "metadata": {},
   "source": [
    "### 5. Correlation matrix"
   ]
  },
  {
   "cell_type": "code",
   "execution_count": 6,
   "metadata": {},
   "outputs": [
    {
     "data": {
      "text/html": [
       "<div>\n",
       "<style scoped>\n",
       "    .dataframe tbody tr th:only-of-type {\n",
       "        vertical-align: middle;\n",
       "    }\n",
       "\n",
       "    .dataframe tbody tr th {\n",
       "        vertical-align: top;\n",
       "    }\n",
       "\n",
       "    .dataframe thead th {\n",
       "        text-align: right;\n",
       "    }\n",
       "</style>\n",
       "<table border=\"1\" class=\"dataframe\">\n",
       "  <thead>\n",
       "    <tr style=\"text-align: right;\">\n",
       "      <th>Symbols</th>\n",
       "      <th>AAPL</th>\n",
       "      <th>NKE</th>\n",
       "      <th>GOOGL</th>\n",
       "      <th>AMZN</th>\n",
       "    </tr>\n",
       "    <tr>\n",
       "      <th>Symbols</th>\n",
       "      <th></th>\n",
       "      <th></th>\n",
       "      <th></th>\n",
       "      <th></th>\n",
       "    </tr>\n",
       "  </thead>\n",
       "  <tbody>\n",
       "    <tr>\n",
       "      <th>AAPL</th>\n",
       "      <td>1.000000</td>\n",
       "      <td>0.463833</td>\n",
       "      <td>0.612830</td>\n",
       "      <td>0.558062</td>\n",
       "    </tr>\n",
       "    <tr>\n",
       "      <th>NKE</th>\n",
       "      <td>0.463833</td>\n",
       "      <td>1.000000</td>\n",
       "      <td>0.478022</td>\n",
       "      <td>0.354615</td>\n",
       "    </tr>\n",
       "    <tr>\n",
       "      <th>GOOGL</th>\n",
       "      <td>0.612830</td>\n",
       "      <td>0.478022</td>\n",
       "      <td>1.000000</td>\n",
       "      <td>0.654721</td>\n",
       "    </tr>\n",
       "    <tr>\n",
       "      <th>AMZN</th>\n",
       "      <td>0.558062</td>\n",
       "      <td>0.354615</td>\n",
       "      <td>0.654721</td>\n",
       "      <td>1.000000</td>\n",
       "    </tr>\n",
       "  </tbody>\n",
       "</table>\n",
       "</div>"
      ],
      "text/plain": [
       "Symbols      AAPL       NKE     GOOGL      AMZN\n",
       "Symbols                                        \n",
       "AAPL     1.000000  0.463833  0.612830  0.558062\n",
       "NKE      0.463833  1.000000  0.478022  0.354615\n",
       "GOOGL    0.612830  0.478022  1.000000  0.654721\n",
       "AMZN     0.558062  0.354615  0.654721  1.000000"
      ]
     },
     "execution_count": 6,
     "metadata": {},
     "output_type": "execute_result"
    }
   ],
   "source": [
    "corr_matrix = df.pct_change().apply(lambda x: np.log(1+x)).corr()\n",
    "corr_matrix"
   ]
  },
  {
   "cell_type": "markdown",
   "metadata": {},
   "source": [
    "### 6. Portfolio Variance"
   ]
  },
  {
   "cell_type": "code",
   "execution_count": 7,
   "metadata": {},
   "outputs": [
    {
     "data": {
      "text/plain": [
       "0.00022106791474543324"
      ]
     },
     "execution_count": 7,
     "metadata": {},
     "output_type": "execute_result"
    }
   ],
   "source": [
    "w = {'AAPL': 0.2, 'NKE': 0.2, 'GOOGL': 0.2, 'AMZN': 0.4}\n",
    "port_var = cov_matrix.mul(w, axis=0).mul(w, axis=1).sum().sum()\n",
    "port_var"
   ]
  },
  {
   "cell_type": "markdown",
   "metadata": {},
   "source": [
    "### 7. E(R) Calculate expected returns"
   ]
  },
  {
   "cell_type": "code",
   "execution_count": 8,
   "metadata": {},
   "outputs": [
    {
     "data": {
      "text/plain": [
       "Symbols\n",
       "AAPL     0.456469\n",
       "NKE      0.212536\n",
       "GOOGL    0.183581\n",
       "AMZN     0.392365\n",
       "dtype: float64"
      ]
     },
     "execution_count": 8,
     "metadata": {},
     "output_type": "execute_result"
    }
   ],
   "source": [
    "# Yearly returns for individual companies\n",
    "ind_er = df.resample('Y').last().pct_change().mean()\n",
    "ind_er"
   ]
  },
  {
   "cell_type": "markdown",
   "metadata": {},
   "source": [
    "### 8. Portfolio expected returns"
   ]
  },
  {
   "cell_type": "code",
   "execution_count": 9,
   "metadata": {},
   "outputs": [
    {
     "data": {
      "text/plain": [
       "0.3274631168032972"
      ]
     },
     "execution_count": 9,
     "metadata": {},
     "output_type": "execute_result"
    }
   ],
   "source": [
    "w = [0.2, 0.2, 0.2, 0.4]\n",
    "port_er = (w*ind_er).sum()\n",
    "port_er"
   ]
  },
  {
   "cell_type": "markdown",
   "metadata": {},
   "source": [
    "### 9. Annual standard deviation"
   ]
  },
  {
   "cell_type": "code",
   "execution_count": 10,
   "metadata": {},
   "outputs": [
    {
     "data": {
      "text/plain": [
       "Symbols\n",
       "AAPL     0.295509\n",
       "NKE      0.272099\n",
       "GOOGL    0.266086\n",
       "AMZN     0.306379\n",
       "dtype: float64"
      ]
     },
     "execution_count": 10,
     "metadata": {},
     "output_type": "execute_result"
    }
   ],
   "source": [
    "ann_sd = df.pct_change().apply(lambda x: np.log(1+x)).std().apply(lambda x: x*np.sqrt(250))\n",
    "ann_sd"
   ]
  },
  {
   "cell_type": "markdown",
   "metadata": {},
   "source": [
    "### 10. Create table"
   ]
  },
  {
   "cell_type": "code",
   "execution_count": 11,
   "metadata": {},
   "outputs": [
    {
     "data": {
      "text/html": [
       "<div>\n",
       "<style scoped>\n",
       "    .dataframe tbody tr th:only-of-type {\n",
       "        vertical-align: middle;\n",
       "    }\n",
       "\n",
       "    .dataframe tbody tr th {\n",
       "        vertical-align: top;\n",
       "    }\n",
       "\n",
       "    .dataframe thead th {\n",
       "        text-align: right;\n",
       "    }\n",
       "</style>\n",
       "<table border=\"1\" class=\"dataframe\">\n",
       "  <thead>\n",
       "    <tr style=\"text-align: right;\">\n",
       "      <th></th>\n",
       "      <th>Returns</th>\n",
       "      <th>Volatility</th>\n",
       "    </tr>\n",
       "    <tr>\n",
       "      <th>Symbols</th>\n",
       "      <th></th>\n",
       "      <th></th>\n",
       "    </tr>\n",
       "  </thead>\n",
       "  <tbody>\n",
       "    <tr>\n",
       "      <th>AAPL</th>\n",
       "      <td>0.456469</td>\n",
       "      <td>0.295509</td>\n",
       "    </tr>\n",
       "    <tr>\n",
       "      <th>NKE</th>\n",
       "      <td>0.212536</td>\n",
       "      <td>0.272099</td>\n",
       "    </tr>\n",
       "    <tr>\n",
       "      <th>GOOGL</th>\n",
       "      <td>0.183581</td>\n",
       "      <td>0.266086</td>\n",
       "    </tr>\n",
       "    <tr>\n",
       "      <th>AMZN</th>\n",
       "      <td>0.392365</td>\n",
       "      <td>0.306379</td>\n",
       "    </tr>\n",
       "  </tbody>\n",
       "</table>\n",
       "</div>"
      ],
      "text/plain": [
       "          Returns  Volatility\n",
       "Symbols                      \n",
       "AAPL     0.456469    0.295509\n",
       "NKE      0.212536    0.272099\n",
       "GOOGL    0.183581    0.266086\n",
       "AMZN     0.392365    0.306379"
      ]
     },
     "execution_count": 11,
     "metadata": {},
     "output_type": "execute_result"
    }
   ],
   "source": [
    "assets = pd.concat([ind_er, ann_sd], axis=1) # Creating a table for visualising returns and volatility of assets\n",
    "assets.columns = ['Returns', 'Volatility']\n",
    "assets"
   ]
  },
  {
   "cell_type": "markdown",
   "metadata": {},
   "source": [
    "### 11. Defining the efficient frontier"
   ]
  },
  {
   "cell_type": "markdown",
   "metadata": {},
   "source": [
    "To do this we need a combination of different stock weights within a portfolio. This can be best done using a loop. Each loop is a combination of different weights."
   ]
  },
  {
   "cell_type": "code",
   "execution_count": 12,
   "metadata": {},
   "outputs": [],
   "source": [
    "p_ret = [] # array for portfolio returns\n",
    "p_vol = [] # array for portfolio volatility\n",
    "p_weights = [] # empty array for asset weights\n",
    "\n",
    "num_assets = len(df.columns) #number of companies\n",
    "num_portfolios = 10000 #number of loops"
   ]
  },
  {
   "cell_type": "markdown",
   "metadata": {},
   "source": [
    "#### 11.1 Loop"
   ]
  },
  {
   "cell_type": "code",
   "execution_count": 13,
   "metadata": {},
   "outputs": [],
   "source": [
    "for portfolio in range(num_portfolios):\n",
    "    weights = np.random.random(num_assets)\n",
    "    weights = weights/np.sum(weights)\n",
    "    p_weights.append(weights)\n",
    "    returns = np.dot(weights, ind_er) # Returns are the product of individual expected returns of asset and its \n",
    "                                      # weights \n",
    "    p_ret.append(returns)\n",
    "    var = cov_matrix.mul(weights, axis=0).mul(weights, axis=1).sum().sum()# Portfolio Variance\n",
    "    sd = np.sqrt(var) # Daily standard deviation\n",
    "    ann_sd = sd*np.sqrt(250) # Annual standard deviation = volatility\n",
    "    p_vol.append(ann_sd)"
   ]
  },
  {
   "cell_type": "code",
   "execution_count": 14,
   "metadata": {},
   "outputs": [],
   "source": [
    "data = {'Returns':p_ret, 'Volatility':p_vol}\n",
    "\n",
    "for counter, symbol in enumerate(df.columns.tolist()):\n",
    "    #print(counter, symbol)\n",
    "    data[symbol+' weight'] = [w[counter] for w in p_weights]"
   ]
  },
  {
   "cell_type": "code",
   "execution_count": 15,
   "metadata": {},
   "outputs": [
    {
     "data": {
      "text/html": [
       "<div>\n",
       "<style scoped>\n",
       "    .dataframe tbody tr th:only-of-type {\n",
       "        vertical-align: middle;\n",
       "    }\n",
       "\n",
       "    .dataframe tbody tr th {\n",
       "        vertical-align: top;\n",
       "    }\n",
       "\n",
       "    .dataframe thead th {\n",
       "        text-align: right;\n",
       "    }\n",
       "</style>\n",
       "<table border=\"1\" class=\"dataframe\">\n",
       "  <thead>\n",
       "    <tr style=\"text-align: right;\">\n",
       "      <th></th>\n",
       "      <th>Returns</th>\n",
       "      <th>Volatility</th>\n",
       "      <th>AAPL weight</th>\n",
       "      <th>NKE weight</th>\n",
       "      <th>GOOGL weight</th>\n",
       "      <th>AMZN weight</th>\n",
       "    </tr>\n",
       "  </thead>\n",
       "  <tbody>\n",
       "    <tr>\n",
       "      <th>0</th>\n",
       "      <td>0.355082</td>\n",
       "      <td>0.233506</td>\n",
       "      <td>0.372435</td>\n",
       "      <td>0.298186</td>\n",
       "      <td>0.036090</td>\n",
       "      <td>0.293288</td>\n",
       "    </tr>\n",
       "    <tr>\n",
       "      <th>1</th>\n",
       "      <td>0.287156</td>\n",
       "      <td>0.229279</td>\n",
       "      <td>0.050936</td>\n",
       "      <td>0.362627</td>\n",
       "      <td>0.207214</td>\n",
       "      <td>0.379222</td>\n",
       "    </tr>\n",
       "    <tr>\n",
       "      <th>2</th>\n",
       "      <td>0.326357</td>\n",
       "      <td>0.242689</td>\n",
       "      <td>0.492199</td>\n",
       "      <td>0.110396</td>\n",
       "      <td>0.372192</td>\n",
       "      <td>0.025213</td>\n",
       "    </tr>\n",
       "    <tr>\n",
       "      <th>3</th>\n",
       "      <td>0.321418</td>\n",
       "      <td>0.238500</td>\n",
       "      <td>0.292738</td>\n",
       "      <td>0.087209</td>\n",
       "      <td>0.354574</td>\n",
       "      <td>0.265479</td>\n",
       "    </tr>\n",
       "    <tr>\n",
       "      <th>4</th>\n",
       "      <td>0.289411</td>\n",
       "      <td>0.227185</td>\n",
       "      <td>0.142612</td>\n",
       "      <td>0.279696</td>\n",
       "      <td>0.295993</td>\n",
       "      <td>0.281699</td>\n",
       "    </tr>\n",
       "  </tbody>\n",
       "</table>\n",
       "</div>"
      ],
      "text/plain": [
       "    Returns  Volatility  AAPL weight  NKE weight  GOOGL weight  AMZN weight\n",
       "0  0.355082    0.233506     0.372435    0.298186      0.036090     0.293288\n",
       "1  0.287156    0.229279     0.050936    0.362627      0.207214     0.379222\n",
       "2  0.326357    0.242689     0.492199    0.110396      0.372192     0.025213\n",
       "3  0.321418    0.238500     0.292738    0.087209      0.354574     0.265479\n",
       "4  0.289411    0.227185     0.142612    0.279696      0.295993     0.281699"
      ]
     },
     "execution_count": 15,
     "metadata": {},
     "output_type": "execute_result"
    }
   ],
   "source": [
    "portfolios  = pd.DataFrame(data)\n",
    "portfolios.head() # Dataframe of the 10000 portfolios created"
   ]
  },
  {
   "cell_type": "markdown",
   "metadata": {},
   "source": [
    "#### 11.2 Plot Efficient Frontier"
   ]
  },
  {
   "cell_type": "code",
   "execution_count": 16,
   "metadata": {},
   "outputs": [
    {
     "data": {
      "text/plain": [
       "<matplotlib.axes._subplots.AxesSubplot at 0x27014b6b508>"
      ]
     },
     "execution_count": 16,
     "metadata": {},
     "output_type": "execute_result"
    },
    {
     "data": {
      "image/png": "[encoded data removed]",
      "text/plain": [
       "<Figure size 720x720 with 1 Axes>"
      ]
     },
     "metadata": {
      "needs_background": "light"
     },
     "output_type": "display_data"
    }
   ],
   "source": [
    "portfolios.plot.scatter(x='Volatility', y='Returns', marker='o', s=10, alpha=0.3, grid=True, figsize=[10,10])"
   ]
  },
  {
   "cell_type": "code",
   "execution_count": null,
   "metadata": {},
   "outputs": [],
   "source": []
  }
 ],
 "metadata": {
  "kernelspec": {
   "display_name": "Python 3",
   "language": "python",
   "name": "python3"
  },
  "language_info": {
   "codemirror_mode": {
    "name": "ipython",
    "version": 3
   },
   "file_extension": ".py",
   "mimetype": "text/x-python",
   "name": "python",
   "nbconvert_exporter": "python",
   "pygments_lexer": "ipython3",
   "version": "3.7.6"
  }
 },
 "nbformat": 4,
 "nbformat_minor": 4
}
